{
  "nbformat": 4,
  "nbformat_minor": 0,
  "metadata": {
    "kernelspec": {
      "display_name": "Python 3",
      "language": "python",
      "name": "python3"
    },
    "language_info": {
      "codemirror_mode": {
        "name": "ipython",
        "version": 3
      },
      "file_extension": ".py",
      "mimetype": "text/x-python",
      "name": "python",
      "nbconvert_exporter": "python",
      "pygments_lexer": "ipython3",
      "version": "3.7.6"
    },
    "colab": {
      "provenance": []
    }
  },
  "cells": [
    {
      "cell_type": "markdown",
      "metadata": {
        "id": "tniwL6f53nPw"
      },
      "source": [
        "# First ML Model: Decision Trees\n",
        "\n",
        "In this notebook we start working on Classification problems, one of the most important tasks within Machine Learning (within what we call Supervised Learning). Classification in Machine Learning consists on learning discrete labels \"y\" from a set of features \"X\" (which can be one, two, or many more) taking as a sample a set of instances.\n",
        "\n",
        "In this notebook we will work with one of the fundamental models of Machine Learning: Decision Trees. For this, we will use the Titanic dataset and the Scikit-Learn library. Due to the object-oriented implementation of Scikit-Learn, **all models are trained and used in the same way**."
      ]
    },
    {
      "cell_type": "markdown",
      "metadata": {
        "id": "YNGsbPcP3nQU"
      },
      "source": [
        "Remember that all the libraries were developed by people who, in search of solving a computational need, wrote the code that today we can reuse so that we can get straight to work instead of having to develop and optimize it over and over again. However, the idea I want to convey to you is that you can try to write yourself the functions and classes that we will import from the libraries. While this is not the usual thing to do and will certainly be much more time consuming, this work will allow you to understand new details about what you are doing. \n",
        "\n",
        "The Titanic dataset is famous among Data Science students. It has emerged from a competition on the Kaggle site: [Machine Learning from Disaster](https://www.kaggle.com/c/titanic). We will see a very simple implementation of a possible approach to solve it, starting also from a simplified and filtered version of the original dataset of this competition.\n",
        "\n",
        "Our Dataset is composed of a series of columns, which have the following meanings:\n",
        "\n",
        "1.   **Survivor**: `0` = No; `1` = Yes\n",
        "2.   **Class**: `1` = First Class; `2` = Second Class; `3` = Third Class\n",
        "3.   **Gender**: `0` = Male; `1` = Female\n",
        "4.   **Age**: age in years\n",
        "5.   **SibSpou**: number of siblings or spouses on board Titanic, for the passenger in question.\n",
        "6.   **ParChil**: number of parents or children on board the Titanic, for the passenger in question.\n",
        "\n",
        "**Exercise:** Load the Titanic dataset and take some time to study its characteristics. "
      ]
    },
    {
      "cell_type": "code",
      "metadata": {
        "id": "hAbHGvnv3nQV"
      },
      "source": [
        "# Import libraries\n",
        "import pandas as pd\n",
        "import numpy as np\n",
        "import matplotlib.pyplot as plt\n",
        "import seaborn as sns\n",
        "\n",
        "from sklearn.tree import DecisionTreeClassifier\n",
        "from sklearn.metrics import accuracy_score, confusion_matrix, plot_confusion_matrix\n",
        "from sklearn import tree"
      ],
      "execution_count": null,
      "outputs": []
    },
    {
      "cell_type": "code",
      "metadata": {
        "id": "KNlaR5bZFw1M",
        "colab": {
          "base_uri": "https://localhost:8080/"
        },
        "outputId": "ee0eb8ea-b8a3-4703-d404-4dafe8b73d46"
      },
      "source": [
        "# link disk\n",
        "from google.colab import drive\n",
        "drive.mount('/content/drive')"
      ],
      "execution_count": null,
      "outputs": [
        {
          "output_type": "stream",
          "name": "stdout",
          "text": [
            "Mounted at /content/drive\n"
          ]
        }
      ]
    },
    {
      "cell_type": "code",
      "metadata": {
        "id": "4pSy8eaVF2k9"
      },
      "source": [
        "# read csv file \"/content/drive/MyDrive/Total Python Colab Notebooks/DataSet_Titanic.csv\"\n",
        "df = pd.read_csv(\"/content/drive/MyDrive/Total Python Colab Notebooks/DataSet_Titanic.csv\")"
      ],
      "execution_count": null,
      "outputs": []
    },
    {
      "cell_type": "code",
      "metadata": {
        "id": "H0Bg3R1M3nQV",
        "colab": {
          "base_uri": "https://localhost:8080/",
          "height": 206
        },
        "outputId": "b2d32e96-23e1-4f8a-9264-1e985f67043e"
      },
      "source": [
        "# display first 5 rows\n",
        "df.head()"
      ],
      "execution_count": null,
      "outputs": [
        {
          "output_type": "execute_result",
          "data": {
            "text/plain": [
              "   Survivor  Class  Gender   Age  SibSpou  ParChil\n",
              "0         0      3       0  22.0        1        0\n",
              "1         1      1       1  38.0        1        0\n",
              "2         1      3       1  26.0        0        0\n",
              "3         1      1       1  35.0        1        0\n",
              "4         0      3       0  35.0        0        0"
            ],
            "text/html": [
              "\n",
              "  <div id=\"df-5bc55ea7-21d6-424d-bb41-8cbcccf4a0cc\">\n",
              "    <div class=\"colab-df-container\">\n",
              "      <div>\n",
              "<style scoped>\n",
              "    .dataframe tbody tr th:only-of-type {\n",
              "        vertical-align: middle;\n",
              "    }\n",
              "\n",
              "    .dataframe tbody tr th {\n",
              "        vertical-align: top;\n",
              "    }\n",
              "\n",
              "    .dataframe thead th {\n",
              "        text-align: right;\n",
              "    }\n",
              "</style>\n",
              "<table border=\"1\" class=\"dataframe\">\n",
              "  <thead>\n",
              "    <tr style=\"text-align: right;\">\n",
              "      <th></th>\n",
              "      <th>Survivor</th>\n",
              "      <th>Class</th>\n",
              "      <th>Gender</th>\n",
              "      <th>Age</th>\n",
              "      <th>SibSpou</th>\n",
              "      <th>ParChil</th>\n",
              "    </tr>\n",
              "  </thead>\n",
              "  <tbody>\n",
              "    <tr>\n",
              "      <th>0</th>\n",
              "      <td>0</td>\n",
              "      <td>3</td>\n",
              "      <td>0</td>\n",
              "      <td>22.0</td>\n",
              "      <td>1</td>\n",
              "      <td>0</td>\n",
              "    </tr>\n",
              "    <tr>\n",
              "      <th>1</th>\n",
              "      <td>1</td>\n",
              "      <td>1</td>\n",
              "      <td>1</td>\n",
              "      <td>38.0</td>\n",
              "      <td>1</td>\n",
              "      <td>0</td>\n",
              "    </tr>\n",
              "    <tr>\n",
              "      <th>2</th>\n",
              "      <td>1</td>\n",
              "      <td>3</td>\n",
              "      <td>1</td>\n",
              "      <td>26.0</td>\n",
              "      <td>0</td>\n",
              "      <td>0</td>\n",
              "    </tr>\n",
              "    <tr>\n",
              "      <th>3</th>\n",
              "      <td>1</td>\n",
              "      <td>1</td>\n",
              "      <td>1</td>\n",
              "      <td>35.0</td>\n",
              "      <td>1</td>\n",
              "      <td>0</td>\n",
              "    </tr>\n",
              "    <tr>\n",
              "      <th>4</th>\n",
              "      <td>0</td>\n",
              "      <td>3</td>\n",
              "      <td>0</td>\n",
              "      <td>35.0</td>\n",
              "      <td>0</td>\n",
              "      <td>0</td>\n",
              "    </tr>\n",
              "  </tbody>\n",
              "</table>\n",
              "</div>\n",
              "      <button class=\"colab-df-convert\" onclick=\"convertToInteractive('df-5bc55ea7-21d6-424d-bb41-8cbcccf4a0cc')\"\n",
              "              title=\"Convert this dataframe to an interactive table.\"\n",
              "              style=\"display:none;\">\n",
              "        \n",
              "  <svg xmlns=\"http://www.w3.org/2000/svg\" height=\"24px\"viewBox=\"0 0 24 24\"\n",
              "       width=\"24px\">\n",
              "    <path d=\"M0 0h24v24H0V0z\" fill=\"none\"/>\n",
              "    <path d=\"M18.56 5.44l.94 2.06.94-2.06 2.06-.94-2.06-.94-.94-2.06-.94 2.06-2.06.94zm-11 1L8.5 8.5l.94-2.06 2.06-.94-2.06-.94L8.5 2.5l-.94 2.06-2.06.94zm10 10l.94 2.06.94-2.06 2.06-.94-2.06-.94-.94-2.06-.94 2.06-2.06.94z\"/><path d=\"M17.41 7.96l-1.37-1.37c-.4-.4-.92-.59-1.43-.59-.52 0-1.04.2-1.43.59L10.3 9.45l-7.72 7.72c-.78.78-.78 2.05 0 2.83L4 21.41c.39.39.9.59 1.41.59.51 0 1.02-.2 1.41-.59l7.78-7.78 2.81-2.81c.8-.78.8-2.07 0-2.86zM5.41 20L4 18.59l7.72-7.72 1.47 1.35L5.41 20z\"/>\n",
              "  </svg>\n",
              "      </button>\n",
              "      \n",
              "  <style>\n",
              "    .colab-df-container {\n",
              "      display:flex;\n",
              "      flex-wrap:wrap;\n",
              "      gap: 12px;\n",
              "    }\n",
              "\n",
              "    .colab-df-convert {\n",
              "      background-color: #E8F0FE;\n",
              "      border: none;\n",
              "      border-radius: 50%;\n",
              "      cursor: pointer;\n",
              "      display: none;\n",
              "      fill: #1967D2;\n",
              "      height: 32px;\n",
              "      padding: 0 0 0 0;\n",
              "      width: 32px;\n",
              "    }\n",
              "\n",
              "    .colab-df-convert:hover {\n",
              "      background-color: #E2EBFA;\n",
              "      box-shadow: 0px 1px 2px rgba(60, 64, 67, 0.3), 0px 1px 3px 1px rgba(60, 64, 67, 0.15);\n",
              "      fill: #174EA6;\n",
              "    }\n",
              "\n",
              "    [theme=dark] .colab-df-convert {\n",
              "      background-color: #3B4455;\n",
              "      fill: #D2E3FC;\n",
              "    }\n",
              "\n",
              "    [theme=dark] .colab-df-convert:hover {\n",
              "      background-color: #434B5C;\n",
              "      box-shadow: 0px 1px 3px 1px rgba(0, 0, 0, 0.15);\n",
              "      filter: drop-shadow(0px 1px 2px rgba(0, 0, 0, 0.3));\n",
              "      fill: #FFFFFF;\n",
              "    }\n",
              "  </style>\n",
              "\n",
              "      <script>\n",
              "        const buttonEl =\n",
              "          document.querySelector('#df-5bc55ea7-21d6-424d-bb41-8cbcccf4a0cc button.colab-df-convert');\n",
              "        buttonEl.style.display =\n",
              "          google.colab.kernel.accessAllowed ? 'block' : 'none';\n",
              "\n",
              "        async function convertToInteractive(key) {\n",
              "          const element = document.querySelector('#df-5bc55ea7-21d6-424d-bb41-8cbcccf4a0cc');\n",
              "          const dataTable =\n",
              "            await google.colab.kernel.invokeFunction('convertToInteractive',\n",
              "                                                     [key], {});\n",
              "          if (!dataTable) return;\n",
              "\n",
              "          const docLinkHtml = 'Like what you see? Visit the ' +\n",
              "            '<a target=\"_blank\" href=https://colab.research.google.com/notebooks/data_table.ipynb>data table notebook</a>'\n",
              "            + ' to learn more about interactive tables.';\n",
              "          element.innerHTML = '';\n",
              "          dataTable['output_type'] = 'display_data';\n",
              "          await google.colab.output.renderOutput(dataTable, element);\n",
              "          const docLink = document.createElement('div');\n",
              "          docLink.innerHTML = docLinkHtml;\n",
              "          element.appendChild(docLink);\n",
              "        }\n",
              "      </script>\n",
              "    </div>\n",
              "  </div>\n",
              "  "
            ]
          },
          "metadata": {},
          "execution_count": 4
        }
      ]
    },
    {
      "cell_type": "markdown",
      "metadata": {
        "id": "UFyhHBjs3nQa"
      },
      "source": [
        "Decision tree: as a first approximation, we will say that it is an object that, given several instances with a given set of features `X` and a given set of target labels `y`, the decision tree automatically learns rules (from most to least important) about each feature in order to decide which label corresponds to each instance.\n",
        "\n",
        "Let's separate the Titanic dataset in:\n",
        "1. An `X` variable with the attributes you will use to predict,\n",
        "2. An `y` variable with the label you want to predict. In this case, whether it survived or not."
      ]
    },
    {
      "cell_type": "code",
      "metadata": {
        "id": "62jSIo_b3nQb"
      },
      "source": [
        "# store in variable X the predictor attributes (all the labels except \"Survivor\")\n",
        "X = df.drop('Survivor', axis=1)\n",
        "\n",
        "# store in y the label to predict (\"Survivor\")\n",
        "y = df.Survivor"
      ],
      "execution_count": null,
      "outputs": []
    },
    {
      "cell_type": "code",
      "metadata": {
        "id": "ZJI52HjzEMpG",
        "colab": {
          "base_uri": "https://localhost:8080/",
          "height": 206
        },
        "outputId": "16d83648-b285-43bc-e29f-8d8b2e25a2bb"
      },
      "source": [
        "# display X\n",
        "X.head()"
      ],
      "execution_count": null,
      "outputs": [
        {
          "output_type": "execute_result",
          "data": {
            "text/plain": [
              "   Class  Gender   Age  SibSpou  ParChil\n",
              "0      3       0  22.0        1        0\n",
              "1      1       1  38.0        1        0\n",
              "2      3       1  26.0        0        0\n",
              "3      1       1  35.0        1        0\n",
              "4      3       0  35.0        0        0"
            ],
            "text/html": [
              "\n",
              "  <div id=\"df-fe7d4884-8260-42b1-9bdc-9c34b6be86a5\">\n",
              "    <div class=\"colab-df-container\">\n",
              "      <div>\n",
              "<style scoped>\n",
              "    .dataframe tbody tr th:only-of-type {\n",
              "        vertical-align: middle;\n",
              "    }\n",
              "\n",
              "    .dataframe tbody tr th {\n",
              "        vertical-align: top;\n",
              "    }\n",
              "\n",
              "    .dataframe thead th {\n",
              "        text-align: right;\n",
              "    }\n",
              "</style>\n",
              "<table border=\"1\" class=\"dataframe\">\n",
              "  <thead>\n",
              "    <tr style=\"text-align: right;\">\n",
              "      <th></th>\n",
              "      <th>Class</th>\n",
              "      <th>Gender</th>\n",
              "      <th>Age</th>\n",
              "      <th>SibSpou</th>\n",
              "      <th>ParChil</th>\n",
              "    </tr>\n",
              "  </thead>\n",
              "  <tbody>\n",
              "    <tr>\n",
              "      <th>0</th>\n",
              "      <td>3</td>\n",
              "      <td>0</td>\n",
              "      <td>22.0</td>\n",
              "      <td>1</td>\n",
              "      <td>0</td>\n",
              "    </tr>\n",
              "    <tr>\n",
              "      <th>1</th>\n",
              "      <td>1</td>\n",
              "      <td>1</td>\n",
              "      <td>38.0</td>\n",
              "      <td>1</td>\n",
              "      <td>0</td>\n",
              "    </tr>\n",
              "    <tr>\n",
              "      <th>2</th>\n",
              "      <td>3</td>\n",
              "      <td>1</td>\n",
              "      <td>26.0</td>\n",
              "      <td>0</td>\n",
              "      <td>0</td>\n",
              "    </tr>\n",
              "    <tr>\n",
              "      <th>3</th>\n",
              "      <td>1</td>\n",
              "      <td>1</td>\n",
              "      <td>35.0</td>\n",
              "      <td>1</td>\n",
              "      <td>0</td>\n",
              "    </tr>\n",
              "    <tr>\n",
              "      <th>4</th>\n",
              "      <td>3</td>\n",
              "      <td>0</td>\n",
              "      <td>35.0</td>\n",
              "      <td>0</td>\n",
              "      <td>0</td>\n",
              "    </tr>\n",
              "  </tbody>\n",
              "</table>\n",
              "</div>\n",
              "      <button class=\"colab-df-convert\" onclick=\"convertToInteractive('df-fe7d4884-8260-42b1-9bdc-9c34b6be86a5')\"\n",
              "              title=\"Convert this dataframe to an interactive table.\"\n",
              "              style=\"display:none;\">\n",
              "        \n",
              "  <svg xmlns=\"http://www.w3.org/2000/svg\" height=\"24px\"viewBox=\"0 0 24 24\"\n",
              "       width=\"24px\">\n",
              "    <path d=\"M0 0h24v24H0V0z\" fill=\"none\"/>\n",
              "    <path d=\"M18.56 5.44l.94 2.06.94-2.06 2.06-.94-2.06-.94-.94-2.06-.94 2.06-2.06.94zm-11 1L8.5 8.5l.94-2.06 2.06-.94-2.06-.94L8.5 2.5l-.94 2.06-2.06.94zm10 10l.94 2.06.94-2.06 2.06-.94-2.06-.94-.94-2.06-.94 2.06-2.06.94z\"/><path d=\"M17.41 7.96l-1.37-1.37c-.4-.4-.92-.59-1.43-.59-.52 0-1.04.2-1.43.59L10.3 9.45l-7.72 7.72c-.78.78-.78 2.05 0 2.83L4 21.41c.39.39.9.59 1.41.59.51 0 1.02-.2 1.41-.59l7.78-7.78 2.81-2.81c.8-.78.8-2.07 0-2.86zM5.41 20L4 18.59l7.72-7.72 1.47 1.35L5.41 20z\"/>\n",
              "  </svg>\n",
              "      </button>\n",
              "      \n",
              "  <style>\n",
              "    .colab-df-container {\n",
              "      display:flex;\n",
              "      flex-wrap:wrap;\n",
              "      gap: 12px;\n",
              "    }\n",
              "\n",
              "    .colab-df-convert {\n",
              "      background-color: #E8F0FE;\n",
              "      border: none;\n",
              "      border-radius: 50%;\n",
              "      cursor: pointer;\n",
              "      display: none;\n",
              "      fill: #1967D2;\n",
              "      height: 32px;\n",
              "      padding: 0 0 0 0;\n",
              "      width: 32px;\n",
              "    }\n",
              "\n",
              "    .colab-df-convert:hover {\n",
              "      background-color: #E2EBFA;\n",
              "      box-shadow: 0px 1px 2px rgba(60, 64, 67, 0.3), 0px 1px 3px 1px rgba(60, 64, 67, 0.15);\n",
              "      fill: #174EA6;\n",
              "    }\n",
              "\n",
              "    [theme=dark] .colab-df-convert {\n",
              "      background-color: #3B4455;\n",
              "      fill: #D2E3FC;\n",
              "    }\n",
              "\n",
              "    [theme=dark] .colab-df-convert:hover {\n",
              "      background-color: #434B5C;\n",
              "      box-shadow: 0px 1px 3px 1px rgba(0, 0, 0, 0.15);\n",
              "      filter: drop-shadow(0px 1px 2px rgba(0, 0, 0, 0.3));\n",
              "      fill: #FFFFFF;\n",
              "    }\n",
              "  </style>\n",
              "\n",
              "      <script>\n",
              "        const buttonEl =\n",
              "          document.querySelector('#df-fe7d4884-8260-42b1-9bdc-9c34b6be86a5 button.colab-df-convert');\n",
              "        buttonEl.style.display =\n",
              "          google.colab.kernel.accessAllowed ? 'block' : 'none';\n",
              "\n",
              "        async function convertToInteractive(key) {\n",
              "          const element = document.querySelector('#df-fe7d4884-8260-42b1-9bdc-9c34b6be86a5');\n",
              "          const dataTable =\n",
              "            await google.colab.kernel.invokeFunction('convertToInteractive',\n",
              "                                                     [key], {});\n",
              "          if (!dataTable) return;\n",
              "\n",
              "          const docLinkHtml = 'Like what you see? Visit the ' +\n",
              "            '<a target=\"_blank\" href=https://colab.research.google.com/notebooks/data_table.ipynb>data table notebook</a>'\n",
              "            + ' to learn more about interactive tables.';\n",
              "          element.innerHTML = '';\n",
              "          dataTable['output_type'] = 'display_data';\n",
              "          await google.colab.output.renderOutput(dataTable, element);\n",
              "          const docLink = document.createElement('div');\n",
              "          docLink.innerHTML = docLinkHtml;\n",
              "          element.appendChild(docLink);\n",
              "        }\n",
              "      </script>\n",
              "    </div>\n",
              "  </div>\n",
              "  "
            ]
          },
          "metadata": {},
          "execution_count": 6
        }
      ]
    },
    {
      "cell_type": "code",
      "metadata": {
        "id": "8Dmmt3e1B2oZ",
        "colab": {
          "base_uri": "https://localhost:8080/"
        },
        "outputId": "752d6a29-85c1-44f8-ec83-617046db0aff"
      },
      "source": [
        "# display y\n",
        "y.head()"
      ],
      "execution_count": null,
      "outputs": [
        {
          "output_type": "execute_result",
          "data": {
            "text/plain": [
              "0    0\n",
              "1    1\n",
              "2    1\n",
              "3    1\n",
              "4    0\n",
              "Name: Survivor, dtype: int64"
            ]
          },
          "metadata": {},
          "execution_count": 7
        }
      ]
    },
    {
      "cell_type": "markdown",
      "metadata": {
        "id": "PrNJW6SAEeeN"
      },
      "source": [
        "If we want to train a decision tree to classify our instances, we must first create an object corresponding to the model. This object will be of the DecisionTreeClassifier class, which we import from the Scikit-Learn library. "
      ]
    },
    {
      "cell_type": "code",
      "metadata": {
        "id": "nva_DAjtCHuZ"
      },
      "source": [
        "# We create a tree object\n",
        "my_tree = DecisionTreeClassifier(max_depth=3, random_state=42)"
      ],
      "execution_count": null,
      "outputs": []
    },
    {
      "cell_type": "markdown",
      "metadata": {
        "id": "nEXt3m9PEjft"
      },
      "source": [
        "So far, all we did was create the object, nothing else.\n",
        "\n",
        "Once our model was created, we need to train it on our data. We do this with the **fit(...)** method that ***all*** Scikit-Learn model classes have."
      ]
    },
    {
      "cell_type": "code",
      "metadata": {
        "id": "YjxPtx06CKcB",
        "colab": {
          "base_uri": "https://localhost:8080/"
        },
        "outputId": "3f7e710b-7c64-42ef-c2be-708283a697d6"
      },
      "source": [
        "# we train the machine\n",
        "my_tree.fit(X, y)"
      ],
      "execution_count": null,
      "outputs": [
        {
          "output_type": "execute_result",
          "data": {
            "text/plain": [
              "DecisionTreeClassifier(max_depth=3, random_state=42)"
            ]
          },
          "metadata": {},
          "execution_count": 9
        }
      ]
    },
    {
      "cell_type": "markdown",
      "metadata": {
        "id": "w0QiAQ46Em6r"
      },
      "source": [
        "What happened?\n",
        "\n",
        "The model is already trained. This means that we have a tool that, given certain characteristics of an instance, gives us back which `y` tag the model thinks corresponds to it. We can do this by using the **predict(...)** method, which also has ***all*** classes corresponding to **Scikit-Learn** models.\n",
        "\n",
        "We might then ask ourselves: what is the percentage of instances well classified by the model? To answer this we will again use the **predict** method on the whole dataset `X`. Then with the `accuracy_score` function we can calculate the percentage of hits we get by comparing our prediction `y_pred` against the original class `y`. We recommend to look at the documentation of this function, for now we will simply say that it is one of the many metrics that we use to evaluate our models, and what it does is to return us a percentage of successes."
      ]
    },
    {
      "cell_type": "code",
      "metadata": {
        "id": "v25nW5vICNdN",
        "colab": {
          "base_uri": "https://localhost:8080/"
        },
        "outputId": "8f4bdb58-d5cf-416f-f385-ba5d7da3809c"
      },
      "source": [
        "# We predict on our set\n",
        "prediction_y = my_tree.predict(X)\n",
        "\n",
        "# We compare with the real labels\n",
        "print(\"Accuracy: \", accuracy_score(prediction_y, y))"
      ],
      "execution_count": null,
      "outputs": [
        {
          "output_type": "stream",
          "name": "stdout",
          "text": [
            "Accuracy:  0.8151260504201681\n"
          ]
        }
      ]
    },
    {
      "cell_type": "markdown",
      "metadata": {
        "id": "_UxOgdRXE6nJ"
      },
      "source": [
        "This means that the classifier assigns the correct label in 80.25% of the cases.\n",
        "\n",
        "Another way to view the results of our classifier is the confusion matrix. The confusion matrix is a double-entry table, where one axis corresponds to the actual label (y) and the other to the predicted label (pred_y). On the diagonal we find the hits, while outside the diagonal we find the misclassified instances. Again, we recommend to see the documentation."
      ]
    },
    {
      "cell_type": "code",
      "metadata": {
        "id": "cKvwir__CT3F",
        "colab": {
          "base_uri": "https://localhost:8080/"
        },
        "outputId": "b402dde9-00e5-45f0-fe69-e981a6c84869"
      },
      "source": [
        "# we create a confusion matrix\n",
        "confusion_matrix(y, prediction_y)"
      ],
      "execution_count": null,
      "outputs": [
        {
          "output_type": "execute_result",
          "data": {
            "text/plain": [
              "array([[372,  52],\n",
              "       [ 80, 210]])"
            ]
          },
          "metadata": {},
          "execution_count": 11
        }
      ]
    },
    {
      "cell_type": "markdown",
      "metadata": {
        "id": "dOy1P98eFEek"
      },
      "source": [
        "A more interesting way to view this information is with the plot_confusion_matrix function:"
      ]
    },
    {
      "cell_type": "code",
      "metadata": {
        "id": "ZAxg0yezFFN9",
        "colab": {
          "base_uri": "https://localhost:8080/",
          "height": 351
        },
        "outputId": "ae6579fa-b67d-4394-dde4-6f5004a9fd58"
      },
      "source": [
        "# we create a graph for the confusion matrix\n",
        "plot_confusion_matrix(my_tree, X, y, cmap= plt.cm.Blues, values_format='.0f')"
      ],
      "execution_count": null,
      "outputs": [
        {
          "output_type": "stream",
          "name": "stderr",
          "text": [
            "/usr/local/lib/python3.8/dist-packages/sklearn/utils/deprecation.py:87: FutureWarning: Function plot_confusion_matrix is deprecated; Function `plot_confusion_matrix` is deprecated in 1.0 and will be removed in 1.2. Use one of the class methods: ConfusionMatrixDisplay.from_predictions or ConfusionMatrixDisplay.from_estimator.\n",
            "  warnings.warn(msg, category=FutureWarning)\n"
          ]
        },
        {
          "output_type": "execute_result",
          "data": {
            "text/plain": [
              "<sklearn.metrics._plot.confusion_matrix.ConfusionMatrixDisplay at 0x7f065b253490>"
            ]
          },
          "metadata": {},
          "execution_count": 12
        },
        {
          "output_type": "display_data",
          "data": {
            "text/plain": [
              "<Figure size 432x288 with 2 Axes>"
            ],
            "image/png": "[encoded data removed]"
          },
          "metadata": {
            "needs_background": "light"
          }
        }
      ]
    },
    {
      "cell_type": "markdown",
      "metadata": {
        "id": "LB0WrJ_8FOKN"
      },
      "source": [
        "Or we can obtain a normalized version (with values between 0 and 1, or in other words, the percentage):"
      ]
    },
    {
      "cell_type": "code",
      "metadata": {
        "id": "ajVpIeYMFPfT",
        "colab": {
          "base_uri": "https://localhost:8080/",
          "height": 351
        },
        "outputId": "70e3eff9-2a33-4699-cd62-d5243d36dd43"
      },
      "source": [
        "# we create a graph for the normalized confusion matrix\n",
        "plot_confusion_matrix(my_tree, X, y, cmap= plt.cm.Blues, values_format='.2f', normalize='true')"
      ],
      "execution_count": null,
      "outputs": [
        {
          "output_type": "stream",
          "name": "stderr",
          "text": [
            "/usr/local/lib/python3.8/dist-packages/sklearn/utils/deprecation.py:87: FutureWarning: Function plot_confusion_matrix is deprecated; Function `plot_confusion_matrix` is deprecated in 1.0 and will be removed in 1.2. Use one of the class methods: ConfusionMatrixDisplay.from_predictions or ConfusionMatrixDisplay.from_estimator.\n",
            "  warnings.warn(msg, category=FutureWarning)\n"
          ]
        },
        {
          "output_type": "execute_result",
          "data": {
            "text/plain": [
              "<sklearn.metrics._plot.confusion_matrix.ConfusionMatrixDisplay at 0x7f065b1bffa0>"
            ]
          },
          "metadata": {},
          "execution_count": 13
        },
        {
          "output_type": "display_data",
          "data": {
            "text/plain": [
              "<Figure size 432x288 with 2 Axes>"
            ],
            "image/png": "[encoded data removed]"
          },
          "metadata": {
            "needs_background": "light"
          }
        }
      ]
    },
    {
      "cell_type": "markdown",
      "metadata": {
        "id": "2eLwxgVxL1h9"
      },
      "source": [
        "We can graphically display the decision tree that was automatically generated when training the model, to get a better understanding of our data and how the model works. The most important variables (those that were most useful to classify the different instances of the dataset), appear at the top, and depending on the values assumed, each instance will be classified into different branches, after which the tree is again asked a question based on the values assumed by this instance of a given feature."
      ]
    },
    {
      "cell_type": "code",
      "metadata": {
        "id": "qSUYilM1CWqr",
        "colab": {
          "base_uri": "https://localhost:8080/",
          "height": 466
        },
        "outputId": "2bf28db3-be45-4c00-a9c7-3088b1fff860"
      },
      "source": [
        "# we show a tree graphically\n",
        "plt.figure(figsize= (10, 8))\n",
        "tree.plot_tree(my_tree, filled= True, feature_names= X.columns)\n",
        "plt.show()"
      ],
      "execution_count": null,
      "outputs": [
        {
          "output_type": "display_data",
          "data": {
            "text/plain": [
              "<Figure size 720x576 with 1 Axes>"
            ],
            "image/png": "[encoded data removed]"
          },
          "metadata": {
            "needs_background": "light"
          }
        }
      ]
    },
    {
      "cell_type": "markdown",
      "metadata": {
        "id": "zgCP7ldTMmpp"
      },
      "source": [
        "The left branch represents the true result, while the right branch represents the false result. I give you another clue to interpret the model: the color of each rectangle represents the label predicted by the model (in our case, the blue label represents \"survives\", or a value of y=1, and the orange, \"does not survive\", or a value of y=0). \n",
        "\n",
        "In turn, the hue represents how confident the model is in its prediction. From the training, the model learned some rules to classify the instances according to the values assumed for certain features. This classification, however, contains errors, since this division may result in a proportion (the smaller the better) of instances being incorrectly classified, since in reality they belong to the other category. The number of incorrectly classified instances is mathematically processed in an indicator known as \"Gini impurity\", which measures the number of incorrectly classified instances within each \"leaf\" of the tree. It reaches the minimum value of zero when there are no misclassified instances. This information exists in our tree graph, and in turn determines the color of the leaf, being more intense when the \"Gini impurity\" value is lower, meaning that the classification of that leaf is more robust to correctly predicting an outcome.\n",
        "\n",
        "We can see that our model has learned some very interesting things:\n",
        "\n",
        "\n",
        "* The first question our model asks, is about the sex of the person: if he is male (0) then his age is asked. If he is a male aged 7 years or older, it assigns him a label of \"no survivor\". On the contrary, if he is a boy aged 6 years or younger, it will predict \"survives.\"\n",
        "* The case is different if, as a result of the first question, the sex value was 1 (female). The next question the tree will ask is referred to what class the passenger belonged to: if she was 1st or 2nd class, it will assign the prediction \"survives\", and if she was 3rd class, \"does not survive\".\n",
        "\n",
        "Unfortunately it is not a happy event, and we have the data to show that there have been human losses. The model is not biased about this, but has automatically learned from the data to explain how the events occurred. Think about how this relates to the historical events surrounding the sinking of the Titanic - are you familiar with the phrase **\"Women and children first \"**, as they jumped into the lifeboats? The model has found that women had a better chance of survival (and the wealthier they were, the better their chances), and that in the case of men, young children were luckier than teenagers or adults."
      ]
    },
    {
      "cell_type": "markdown",
      "metadata": {
        "id": "1pRFyevnR1hA"
      },
      "source": [
        "Another useful visualization, more synthetic than the previous one, is the possibility of plotting the importance of each variable in the prediction obtained. This importance is given by Scikit-Learn to each feature (x) according to how useful it has been to classify the instances."
      ]
    },
    {
      "cell_type": "code",
      "metadata": {
        "id": "TEqbIPOQCYKa",
        "colab": {
          "base_uri": "https://localhost:8080/",
          "height": 336
        },
        "outputId": "5ba60c8f-b29b-458e-d3d4-f190c0c58375"
      },
      "source": [
        "# we plot the importances in a bar chart\n",
        "# we create the variables x (amounts) and y (columns)\n",
        "relevance = my_tree.feature_importances_\n",
        "columns = X.columns\n",
        "\n",
        "# create the graph\n",
        "sns.barplot(columns, relevance)\n",
        "plt.title(\"Relevance of each attribute\")\n",
        "plt.show()"
      ],
      "execution_count": null,
      "outputs": [
        {
          "output_type": "stream",
          "name": "stderr",
          "text": [
            "/usr/local/lib/python3.8/dist-packages/seaborn/_decorators.py:36: FutureWarning: Pass the following variables as keyword args: x, y. From version 0.12, the only valid positional argument will be `data`, and passing other arguments without an explicit keyword will result in an error or misinterpretation.\n",
            "  warnings.warn(\n"
          ]
        },
        {
          "output_type": "display_data",
          "data": {
            "text/plain": [
              "<Figure size 432x288 with 1 Axes>"
            ],
            "image/png": "[encoded data removed]"
          },
          "metadata": {
            "needs_background": "light"
          }
        }
      ]
    },
    {
      "cell_type": "markdown",
      "metadata": {
        "id": "OER2_XsvSIoz"
      },
      "source": [
        "According to the above graph, the most determining factor was gender, followed by passenger class, and then age. Complemented with the previous diagram, we could see how the variables influenced each other to determine the possibility of survival according to the person's gender."
      ]
    },
    {
      "cell_type": "markdown",
      "metadata": {
        "id": "PH9KiXYN3nQv"
      },
      "source": [
        "The next step in a data scientist's process would be to optimize their machine learning model to try to achieve higher accuracy. Keep in mind that reaching 100% accuracy is generally not realistic in any real project, but an acceptable threshold is usually between 85% and 95%, depending on the complexity of the dataset and the models already available (a more complex model will be worthwhile only if it gets better results than a simple model).\n",
        "\n",
        "1. Experiment with different depths and visualize the tree obtained with the `plot_tree` function of the `tree` module of Scikit-Learn.\n",
        "1. Evaluates its performance by calculating the accuracy and viewing its confusion matrix.\n",
        "1. Observe the importance assigned to each attribute (`feature_importances_`). In the documentation you will find information that may be useful to improve the results obtained.\n",
        "\n",
        "\n",
        "What else can you learn from the Titanic tragedy by looking at the decision tree and the importance of each feature?"
      ]
    },
    {
      "cell_type": "code",
      "source": [
        "miGini = my_tree.feature_importances_"
      ],
      "metadata": {
        "id": "wKE0Mp51qd7V"
      },
      "execution_count": null,
      "outputs": []
    },
    {
      "cell_type": "code",
      "source": [
        "miGini"
      ],
      "metadata": {
        "colab": {
          "base_uri": "https://localhost:8080/"
        },
        "id": "nr80uKfkqyks",
        "outputId": "c6b72df5-a891-4915-d0f7-85f316452c1d"
      },
      "execution_count": null,
      "outputs": [
        {
          "output_type": "execute_result",
          "data": {
            "text/plain": [
              "array([0.24197753, 0.6095886 , 0.09424723, 0.05418664, 0.        ])"
            ]
          },
          "metadata": {},
          "execution_count": 32
        }
      ]
    },
    {
      "cell_type": "code",
      "source": [],
      "metadata": {
        "id": "B33wTx4Sq1zS"
      },
      "execution_count": null,
      "outputs": []
    }
  ]
}